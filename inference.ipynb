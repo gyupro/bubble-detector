{
 "cells": [
  {
   "cell_type": "code",
   "execution_count": 1,
   "id": "d90786aa-35c4-4528-b55e-325f5b0a9b08",
   "metadata": {},
   "outputs": [],
   "source": [
    "from webtoon_panel_slicer import slice_webtoon_into_color_panels as sp"
   ]
  },
  {
   "cell_type": "code",
   "execution_count": 2,
   "id": "0c6950c0-59ba-4cb9-8d76-7a197a3c6f3a",
   "metadata": {},
   "outputs": [],
   "source": [
    "import cv2\n",
    "for idx, item in enumerate(sp('sample/image/prologue.jpg')):\n",
    "    cv2.imwrite(f'sample/sliced/{str(idx).zfill(4)}.jpg', item)"
   ]
  },
  {
   "cell_type": "code",
   "execution_count": 10,
   "id": "ce128db8-1796-47ba-8aaf-6eba9bff7e33",
   "metadata": {},
   "outputs": [],
   "source": [
    "import cv2\n",
    "from glob import glob\n",
    "import numpy as np\n",
    "numpy_arrays = []\n",
    "\n",
    "for item in sorted(glob('sample/sliced/*')):\n",
    "    numpy_arrays.append(cv2.imread(item))"
   ]
  },
  {
   "cell_type": "code",
   "execution_count": null,
   "id": "4e41aa0c-6ff0-43aa-a906-0e200e6c1c9b",
   "metadata": {},
   "outputs": [],
   "source": [
    "from PIL import Image\n",
    "for item in numpy_arrays:\n",
    "    display(Image.fromarray(item))\n",
    "    print(item.shape)"
   ]
  },
  {
   "cell_type": "code",
   "execution_count": 12,
   "id": "15287efa-383b-425b-b610-2574f5215c55",
   "metadata": {},
   "outputs": [],
   "source": [
    "import numpy as np\n",
    "\n",
    "import numpy as np\n",
    "\n",
    "def pad_color_images_to_max_height(image_list):\n",
    "    \"\"\"\n",
    "    Pad the color images to have the same maximum height and center align them.\n",
    "\n",
    "    Parameters:\n",
    "        image_list: list of numpy arrays, each representing a color image\n",
    "\n",
    "    Returns:\n",
    "        list: A list of padded numpy arrays with the same height\n",
    "    \"\"\"\n",
    "    \n",
    "    # Find the maximum height among all images\n",
    "    max_height = max(img.shape[0] for img in image_list)\n",
    "    \n",
    "    # Initialize list to hold padded images\n",
    "    padded_images = []\n",
    "\n",
    "    for img in image_list:\n",
    "        height, width, _ = img.shape  # Added color channel dimension\n",
    "\n",
    "        # Calculate padding\n",
    "        pad_height = max_height - height\n",
    "        \n",
    "        # Distribute padding equally at top and bottom\n",
    "        pad_height_top = pad_height // 2\n",
    "        pad_height_bottom = pad_height - pad_height_top\n",
    "\n",
    "        # Pad the image and append to list\n",
    "        padded_img = np.pad(img, ((pad_height_top, pad_height_bottom), (0, 0), (0, 0)), mode='constant', constant_values=255)\n",
    "\n",
    "        padded_images.append(padded_img)\n",
    "\n",
    "    return padded_images\n",
    "\n",
    "\n",
    "numpy_arrays = pad_color_images_to_max_height(numpy_arrays)"
   ]
  },
  {
   "cell_type": "code",
   "execution_count": 13,
   "id": "f4323d05-1717-482d-b528-3b47fca31ca7",
   "metadata": {},
   "outputs": [],
   "source": [
    "def numpy_arrays_to_gif(numpy_arrays, gif_path, duration=500):\n",
    "    \"\"\"\n",
    "    Convert a list of numpy arrays to a GIF and save it.\n",
    "\n",
    "    Parameters:\n",
    "        numpy_arrays: list of numpy arrays, each representing an image\n",
    "        gif_path: str, the path to save the GIF\n",
    "        duration: int, duration for each frame in milliseconds\n",
    "    \"\"\"\n",
    "    # Convert numpy arrays to PIL Image objects\n",
    "    images = [Image.fromarray((cv2.cvtColor(arr, cv2.COLOR_BGR2RGB)).astype('uint8')) for arr in numpy_arrays]\n",
    "    \n",
    "    # Create and save the GIF\n",
    "    images[0].save(gif_path,\n",
    "                   save_all=True,\n",
    "                   append_images=images[1:],\n",
    "                   duration=duration,\n",
    "                   loop=0)\n",
    "\n",
    "# Example usage:\n",
    "gif_path = 'output.gif'  # Replace with your desired GIF path\n",
    "duration = 1000  # Duration for each frame in milliseconds\n",
    "\n",
    "numpy_arrays_to_gif(numpy_arrays, gif_path, duration)"
   ]
  },
  {
   "cell_type": "code",
   "execution_count": 24,
   "id": "6a6a6bc9-57e6-43b7-a1db-3dbbbbd79098",
   "metadata": {},
   "outputs": [
    {
     "name": "stdout",
     "output_type": "stream",
     "text": [
      "(6, 4, 3)\n",
      "(6, 4, 3)\n"
     ]
    }
   ],
   "source": []
  }
 ],
 "metadata": {
  "kernelspec": {
   "display_name": "samhq",
   "language": "python",
   "name": "samhq"
  },
  "language_info": {
   "codemirror_mode": {
    "name": "ipython",
    "version": 3
   },
   "file_extension": ".py",
   "mimetype": "text/x-python",
   "name": "python",
   "nbconvert_exporter": "python",
   "pygments_lexer": "ipython3",
   "version": "3.11.3"
  }
 },
 "nbformat": 4,
 "nbformat_minor": 5
}
