{
 "cells": [
  {
   "cell_type": "code",
   "execution_count": 1,
   "id": "d90786aa-35c4-4528-b55e-325f5b0a9b08",
   "metadata": {},
   "outputs": [],
   "source": [
    "from cut import *"
   ]
  },
  {
   "cell_type": "code",
   "execution_count": 2,
   "id": "75d069ea-7b07-40f5-837f-e5b2d7a6b8af",
   "metadata": {},
   "outputs": [
    {
     "data": {
      "text/plain": [
       "<function cut.detect_cut(image_path)>"
      ]
     },
     "execution_count": 2,
     "metadata": {},
     "output_type": "execute_result"
    }
   ],
   "source": [
    "detect_cut('../"
   ]
  }
 ],
 "metadata": {
  "kernelspec": {
   "display_name": "samhq",
   "language": "python",
   "name": "samhq"
  },
  "language_info": {
   "codemirror_mode": {
    "name": "ipython",
    "version": 3
   },
   "file_extension": ".py",
   "mimetype": "text/x-python",
   "name": "python",
   "nbconvert_exporter": "python",
   "pygments_lexer": "ipython3",
   "version": "3.11.3"
  }
 },
 "nbformat": 4,
 "nbformat_minor": 5
}
